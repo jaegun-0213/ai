{
  "nbformat": 4,
  "nbformat_minor": 0,
  "metadata": {
    "colab": {
      "provenance": [],
      "authorship_tag": "ABX9TyOVX/MP/4SRh2pT6r0YkZm9",
      "include_colab_link": true
    },
    "kernelspec": {
      "name": "python3",
      "display_name": "Python 3"
    },
    "language_info": {
      "name": "python"
    }
  },
  "cells": [
    {
      "cell_type": "markdown",
      "metadata": {
        "id": "view-in-github",
        "colab_type": "text"
      },
      "source": [
        "<a href=\"https://colab.research.google.com/github/jaegun-0213/ai/blob/%2Bpython/6_%EB%84%8C%ED%8C%8C%EC%9D%B4.ipynb\" target=\"_parent\"><img src=\"https://colab.research.google.com/assets/colab-badge.svg\" alt=\"Open In Colab\"/></a>"
      ]
    },
    {
      "cell_type": "code",
      "execution_count": null,
      "metadata": {
        "colab": {
          "base_uri": "https://localhost:8080/"
        },
        "id": "Em58nW-k0hhs",
        "outputId": "4706449d-1b3e-4458-b17a-a259e37198b9"
      },
      "outputs": [
        {
          "output_type": "stream",
          "name": "stdout",
          "text": [
            "Requirement already satisfied: numpy in /usr/local/lib/python3.10/dist-packages (1.25.2)\n"
          ]
        }
      ],
      "source": [
        "!pip install numpy #  넌파이를 설치"
      ]
    },
    {
      "cell_type": "code",
      "source": [
        "import numpy as np # 넌파이 인포트\n",
        "a = np.array(0) # 스칼라\n",
        "print(a)\n",
        "print(a.ndim) # 0차원\n",
        "a2 = np.array( [1,2,3,4]) # 1차원벡터\n",
        "print(a2)\n",
        "print(a2.ndim) # 1차원\n",
        "a3 = np.array([[1,2,3], [4,5,6], [7,8,9]]) # 행렬 3 x 3\n",
        "print(a3)\n",
        "print(a3.ndim)\n",
        "a4 = np.array( [ [ [1,2],[3,4],[5,6] ] ,[ [7,8],[9,10],[11,12] ] ] )\n",
        "print(a4)\n",
        "print(a4.ndim)\n",
        "print(a4.shape) # ( 2,3,2)\n",
        "# 텐서 3면 2행 2열\n",
        "a5 = np.array( [ [ [ 1,2 ],[3,4] ], [ [5,6],[7,8] ], [ [9,10],[11,12] ] ])\n",
        "print(a5)\n",
        "print(a5.shape) # (3,2,2)"
      ],
      "metadata": {
        "colab": {
          "base_uri": "https://localhost:8080/"
        },
        "id": "apQmeLQk5Mlm",
        "outputId": "d2689026-9ab9-4217-f3d8-fbd616f68ff4"
      },
      "execution_count": null,
      "outputs": [
        {
          "output_type": "stream",
          "name": "stdout",
          "text": [
            "0\n",
            "0\n",
            "[1 2 3 4]\n",
            "1\n",
            "[[1 2 3]\n",
            " [4 5 6]\n",
            " [7 8 9]]\n",
            "2\n",
            "[[[ 1  2]\n",
            "  [ 3  4]\n",
            "  [ 5  6]]\n",
            "\n",
            " [[ 7  8]\n",
            "  [ 9 10]\n",
            "  [11 12]]]\n",
            "3\n",
            "(2, 3, 2)\n",
            "[[[ 1  2]\n",
            "  [ 3  4]]\n",
            "\n",
            " [[ 5  6]\n",
            "  [ 7  8]]\n",
            "\n",
            " [[ 9 10]\n",
            "  [11 12]]]\n",
            "(3, 2, 2)\n",
            "12\n"
          ]
        }
      ]
    },
    {
      "cell_type": "code",
      "source": [
        "# reshaping\n",
        "b = np.arange(12) # 1차원 벡터 생성\n",
        "print(b)\n",
        "b.shape\n",
        "b.shape = 2,-1\n",
        "print(b)\n",
        "b.shape\n",
        "b.shape = 3, -1\n",
        "print(b)\n",
        "b.shape\n",
        "b.shape=-1,1\n",
        "print(b)\n",
        "b.shape\n",
        "b.shape = -1, 3\n",
        "print(b)\n",
        "b.shape\n",
        "b.shape = -1\n",
        "print(b)"
      ],
      "metadata": {
        "colab": {
          "base_uri": "https://localhost:8080/"
        },
        "id": "sEO1ZYluAoMO",
        "outputId": "ff3c4ee8-fc66-43f3-b04d-06ca99188653"
      },
      "execution_count": null,
      "outputs": [
        {
          "output_type": "stream",
          "name": "stdout",
          "text": [
            "[ 0  1  2  3  4  5  6  7  8  9 10 11]\n",
            "[[ 0  1  2  3  4  5]\n",
            " [ 6  7  8  9 10 11]]\n",
            "[[ 0  1  2  3]\n",
            " [ 4  5  6  7]\n",
            " [ 8  9 10 11]]\n",
            "[[ 0]\n",
            " [ 1]\n",
            " [ 2]\n",
            " [ 3]\n",
            " [ 4]\n",
            " [ 5]\n",
            " [ 6]\n",
            " [ 7]\n",
            " [ 8]\n",
            " [ 9]\n",
            " [10]\n",
            " [11]]\n",
            "[[ 0  1  2]\n",
            " [ 3  4  5]\n",
            " [ 6  7  8]\n",
            " [ 9 10 11]]\n",
            "[ 0  1  2  3  4  5  6  7  8  9 10 11]\n"
          ]
        }
      ]
    },
    {
      "cell_type": "code",
      "source": [
        "b = np.arange(12) # 1차원 벡터 생성\n",
        "print(b.size,'~~')\n",
        "b.shape\n",
        "#b.shape = 2,-1 # 요소의 갯수가 안 맞아서 오류가 난다.\n",
        "print(b)"
      ],
      "metadata": {
        "colab": {
          "base_uri": "https://localhost:8080/"
        },
        "id": "tEshwp83CwE-",
        "outputId": "edd32d7e-b581-4a05-f472-bf13a5ae1b77"
      },
      "execution_count": null,
      "outputs": [
        {
          "output_type": "stream",
          "name": "stdout",
          "text": [
            "12 ~~\n",
            "[ 0  1  2  3  4  5  6  7  8  9 10 11]\n"
          ]
        }
      ]
    },
    {
      "cell_type": "markdown",
      "source": [
        "- 자료형\n",
        "  -int형 (정수)\n",
        "      - int64,int16, int8 uint64\n",
        "    - -2^63~2^63 -1 범위의 정수를 표현할 수 있다.\n",
        "    - -2^15~2^15 -1\n",
        "    - 0 ~ 2^127 uint64의 정수표현의 범위 양의 정수만 구한다.\n",
        "  -float형 (실수)\n",
        "      - float64, float32, float16\n",
        "  -compiex형 (복소수)\n",
        "      - compiex128, compiex64"
      ],
      "metadata": {
        "id": "bhY3rjV8Dz6f"
      }
    },
    {
      "cell_type": "code",
      "source": [
        "# int32의 자료표현의 범위 -2147483648 ~ 2147483647까지 정수 표현의 범위\n",
        "a = np.array([1,3,5,7,9], np.int8) # 8비트\n",
        "print(a)\n",
        "a.dtype\n",
        "a1 = np.array([2147483646,2147483647,2147483649], np.int64)\n",
        "print(a1)\n",
        "a1.dtype\n",
        "a2 = np.array( [2**63, 2**63+1, 2**63+2], np.uint64)\n",
        "print(a2)\n",
        "a2.dtype\n",
        "a3 = np.array( [2**62 -2**63])\n",
        "print(a3)\n",
        "a3.dtype"
      ],
      "metadata": {
        "colab": {
          "base_uri": "https://localhost:8080/"
        },
        "id": "KOT0r8O9Dw_l",
        "outputId": "f84f9a32-e84f-4ee8-aa75-d076acfe2ec0"
      },
      "execution_count": null,
      "outputs": [
        {
          "output_type": "stream",
          "name": "stdout",
          "text": [
            "[1 3 5 7 9]\n",
            "[2147483646 2147483647 2147483649]\n",
            "[9223372036854775808 9223372036854775809 9223372036854775810]\n",
            "[-4611686018427387904]\n"
          ]
        },
        {
          "output_type": "execute_result",
          "data": {
            "text/plain": [
              "dtype('int64')"
            ]
          },
          "metadata": {},
          "execution_count": 49
        }
      ]
    },
    {
      "cell_type": "code",
      "source": [
        "a4 = np.array([1,3,5,7,9]) # 8비트\n",
        "print(a4)\n",
        "a4.dtype"
      ],
      "metadata": {
        "colab": {
          "base_uri": "https://localhost:8080/"
        },
        "id": "82Ez-wxcKqer",
        "outputId": "65d74bbe-5b19-4f7a-b327-6867385737b9"
      },
      "execution_count": null,
      "outputs": [
        {
          "output_type": "stream",
          "name": "stdout",
          "text": [
            "[1 3 5 7 9]\n"
          ]
        },
        {
          "output_type": "execute_result",
          "data": {
            "text/plain": [
              "dtype('int64')"
            ]
          },
          "metadata": {},
          "execution_count": 50
        }
      ]
    },
    {
      "cell_type": "code",
      "source": [
        "# 인덱싱 index lng\n",
        "a = np.array ( [1,3,5,7,9])\n",
        "print(a)\n",
        "print(a.ndim)\n",
        "print(a.shape)\n",
        "print(a[0])\n",
        "print(a[3])\n",
        "print(a[4])\n",
        "print(a[-1])\n",
        "print(a[-2])"
      ],
      "metadata": {
        "colab": {
          "base_uri": "https://localhost:8080/"
        },
        "id": "AfdJALlSV-i_",
        "outputId": "068a2294-d734-45e4-faee-f6b9b806704c"
      },
      "execution_count": null,
      "outputs": [
        {
          "output_type": "stream",
          "name": "stdout",
          "text": [
            "[1 3 5 7 9]\n",
            "1\n",
            "(5,)\n",
            "1\n",
            "7\n",
            "9\n",
            "9\n",
            "7\n"
          ]
        }
      ]
    },
    {
      "cell_type": "code",
      "source": [
        "a2 = np.array([ [1,3,5], [2,4,6]])\n",
        "print(a2)\n",
        "print(a2.ndim)\n",
        "print(a2.shape)\n",
        "\n",
        "# 1,5,4\n",
        "print(a2[0,0],a2[0,2],a2[1,1])\n",
        "print(a2[1,2],a2[0,1])\n",
        "a2[0,1] = 13\n",
        "a2[1,0] = 25\n",
        "print(a2)\n",
        "print(a2[0])\n",
        "print(a2[0]+10)\n",
        "print(a2[1]*2)\n",
        "print(a2[:,1:2] / 2,'~~')"
      ],
      "metadata": {
        "colab": {
          "base_uri": "https://localhost:8080/"
        },
        "id": "WVrn9FVOWwjm",
        "outputId": "5c07548c-45ac-42b1-e568-326e50de84a7"
      },
      "execution_count": null,
      "outputs": [
        {
          "output_type": "stream",
          "name": "stdout",
          "text": [
            "[[1 3 5]\n",
            " [2 4 6]]\n",
            "2\n",
            "(2, 3)\n",
            "1 5 4\n",
            "6 3\n",
            "[[ 1 13  5]\n",
            " [25  4  6]]\n",
            "[ 1 13  5]\n",
            "[11 23 15]\n",
            "[50  8 12]\n",
            "[[6.5]\n",
            " [2. ]] ~~\n"
          ]
        }
      ]
    },
    {
      "cell_type": "code",
      "source": [
        "# 슬라이싱 slicing 1) 1DArray 2) 2DArray\n",
        "a = np.array( [1,3,5,7,9])\n",
        "print(a.ndim)\n",
        "print(a.shape)\n",
        "print(a[:])\n",
        "print(a)\n",
        "\n",
        "print(a[0:])\n",
        "print(a[1:])\n",
        "print(a[2:])\n",
        "print(a[3:])\n",
        "\n",
        "print(a[:0])\n",
        "print(a[:5])\n",
        "print(a[:-1])\n",
        "print(a[1:4])\n",
        "\n",
        "a2=np.arange( 10)\n",
        "print(a2)\n",
        "print(a2[::2])\n",
        "print(a2[::3])\n",
        "print(a2[::-4])\n",
        "print(a2[1::2])\n",
        "print(a2[:-2:2])\n",
        "print(a2[:-4:2])\n",
        "print(a2[2:-2:2])"
      ],
      "metadata": {
        "colab": {
          "base_uri": "https://localhost:8080/"
        },
        "id": "tdoK7zOkcwoQ",
        "outputId": "4c38832a-c4dd-4acb-b8eb-a3b9fa445857"
      },
      "execution_count": null,
      "outputs": [
        {
          "output_type": "stream",
          "name": "stdout",
          "text": [
            "1\n",
            "(5,)\n",
            "[1 3 5 7 9]\n",
            "[1 3 5 7 9]\n",
            "[1 3 5 7 9]\n",
            "[3 5 7 9]\n",
            "[5 7 9]\n",
            "[7 9]\n",
            "[]\n",
            "[1 3 5 7 9]\n",
            "[1 3 5 7]\n",
            "[3 5 7]\n",
            "[0 1 2 3 4 5 6 7 8 9]\n",
            "[0 2 4 6 8]\n",
            "[0 3 6 9]\n",
            "[9 5 1]\n",
            "[1 3 5 7 9]\n",
            "[0 2 4 6]\n",
            "[0 2 4]\n",
            "[2 4 6]\n"
          ]
        }
      ]
    },
    {
      "cell_type": "code",
      "source": [
        "a = np.arange(10,25).reshape(3,5)\n",
        "# print(a)\n",
        "# print(a.ndim)\n",
        "# print(a.shape)\n",
        "# print(a[:])\n",
        "# print(a[0:])\n",
        "# print(a[1:]) # 1행부터 끝까지\n",
        "# print(a[-1:]) # 제일 마지막행부터\n",
        "# print(a[-2:])\n",
        "# print(a[-3:])\n",
        "# print(a[:0],\"~\")\n",
        "# print(a[:1],\"~\") # 0행\n",
        "# print(a[:-1],\"~\") # 0행 1행\n",
        "# print(a[ : ,2 : ])\n",
        "# print(a[ : ,-3 :])\n",
        "# print(a[ : ,1:-1])\n",
        "# print(a[1:,1:-2])\n",
        "# print(a[:,3:])\n",
        "\n",
        "a2 = np.arange(10,100).reshape(9,10)\n",
        "print(a2)\n",
        "print(a2[:3],'~')\n",
        "print(a2[1:5,6:-1])"
      ],
      "metadata": {
        "colab": {
          "base_uri": "https://localhost:8080/"
        },
        "id": "hYFxsKBQy6iD",
        "outputId": "99d7f8cf-4950-4686-de9f-d4322936a485"
      },
      "execution_count": null,
      "outputs": [
        {
          "output_type": "stream",
          "name": "stdout",
          "text": [
            "[[10 11 12 13 14 15 16 17 18 19]\n",
            " [20 21 22 23 24 25 26 27 28 29]\n",
            " [30 31 32 33 34 35 36 37 38 39]\n",
            " [40 41 42 43 44 45 46 47 48 49]\n",
            " [50 51 52 53 54 55 56 57 58 59]\n",
            " [60 61 62 63 64 65 66 67 68 69]\n",
            " [70 71 72 73 74 75 76 77 78 79]\n",
            " [80 81 82 83 84 85 86 87 88 89]\n",
            " [90 91 92 93 94 95 96 97 98 99]]\n",
            "[[10 11 12 13 14 15 16 17 18 19]\n",
            " [20 21 22 23 24 25 26 27 28 29]\n",
            " [30 31 32 33 34 35 36 37 38 39]] ~\n",
            "[[26 27 28]\n",
            " [36 37 38]\n",
            " [46 47 48]\n",
            " [56 57 58]]\n"
          ]
        }
      ]
    },
    {
      "cell_type": "code",
      "source": [
        "# iterating 반복자 1) 1DArray 2) 2DArray\n",
        "a=np.arange(11)**3\n",
        "print(a)\n",
        "for a1 in a:\n",
        "  print(a1)"
      ],
      "metadata": {
        "colab": {
          "base_uri": "https://localhost:8080/"
        },
        "id": "gf7eWvby3pYz",
        "outputId": "1aaf5438-e7a3-4cb0-8343-798f06beb353"
      },
      "execution_count": null,
      "outputs": [
        {
          "output_type": "stream",
          "name": "stdout",
          "text": [
            "[   0    1    8   27   64  125  216  343  512  729 1000]\n",
            "0\n",
            "1\n",
            "8\n",
            "27\n",
            "64\n",
            "125\n",
            "216\n",
            "343\n",
            "512\n",
            "729\n",
            "1000\n"
          ]
        }
      ]
    },
    {
      "cell_type": "code",
      "source": [
        "b = np.arange(10,22).reshape(3,4)\n",
        "print(b)\n",
        "for b1 in b :\n",
        "  print(b1) # 한행씩 출력된다.\n",
        "for b1 in b :\n",
        "  for b2 in b1 :\n",
        "    print(b2)"
      ],
      "metadata": {
        "colab": {
          "base_uri": "https://localhost:8080/"
        },
        "id": "enUbXv6t4wza",
        "outputId": "b6128e41-dbf1-4223-c0ac-c194ae2c004c"
      },
      "execution_count": null,
      "outputs": [
        {
          "output_type": "stream",
          "name": "stdout",
          "text": [
            "[[10 11 12 13]\n",
            " [14 15 16 17]\n",
            " [18 19 20 21]]\n",
            "[10 11 12 13]\n",
            "[14 15 16 17]\n",
            "[18 19 20 21]\n",
            "10\n",
            "11\n",
            "12\n",
            "13\n",
            "14\n",
            "15\n",
            "16\n",
            "17\n",
            "18\n",
            "19\n",
            "20\n",
            "21\n"
          ]
        }
      ]
    },
    {
      "cell_type": "markdown",
      "source": [
        "### 배열의 명령어 Array Operations\n",
        "arange\n",
        "linespace\n",
        "transpose\n",
        "reshape\n",
        "r_\n",
        "c_\n",
        "concatenate\n",
        "hstack, vstack\n",
        "zeros\n",
        "ones\n",
        "full\n",
        "empty"
      ],
      "metadata": {
        "id": "bu1lNSto6b7k"
      }
    },
    {
      "cell_type": "code",
      "source": [
        "# arange\n",
        "a = np.arange(10,101,5)\n",
        "print(a)\n",
        "a = np.arange(10,dtype=np.float32)\n",
        "print(a)\n",
        "a = np.arange(0,1,0.1)\n",
        "print(a)"
      ],
      "metadata": {
        "colab": {
          "base_uri": "https://localhost:8080/"
        },
        "id": "nPT_LYOj6ZzD",
        "outputId": "f2995470-2095-4d37-eba4-d611570e344d"
      },
      "execution_count": null,
      "outputs": [
        {
          "output_type": "stream",
          "name": "stdout",
          "text": [
            "[ 10  15  20  25  30  35  40  45  50  55  60  65  70  75  80  85  90  95\n",
            " 100]\n",
            "[0. 1. 2. 3. 4. 5. 6. 7. 8. 9.]\n",
            "[0.  0.1 0.2 0.3 0.4 0.5 0.6 0.7 0.8 0.9]\n"
          ]
        }
      ]
    },
    {
      "cell_type": "code",
      "source": [
        "# linespace\n",
        "a = np.linspace(0,1,5)\n",
        "print(a)"
      ],
      "metadata": {
        "colab": {
          "base_uri": "https://localhost:8080/"
        },
        "id": "KEgOaRj3_hs8",
        "outputId": "b60581cc-e19a-41f3-8388-b4abcc725696"
      },
      "execution_count": null,
      "outputs": [
        {
          "output_type": "stream",
          "name": "stdout",
          "text": [
            "[0.   0.25 0.5  0.75 1.  ]\n"
          ]
        }
      ]
    },
    {
      "cell_type": "code",
      "source": [
        "# transpose\n",
        "a = np.array( [[1,2,3], [4,5,6]])\n",
        "b = a.T # 0열 -> 0행 바꾼것\n",
        "print(a)\n",
        "print(b)\n",
        "\n",
        "b2 = np.transpose(a)\n",
        "print(b2)"
      ],
      "metadata": {
        "colab": {
          "base_uri": "https://localhost:8080/"
        },
        "id": "bn3lmfNDAMCI",
        "outputId": "a047aebc-9d04-45cb-adb7-7a0fe1b52234"
      },
      "execution_count": null,
      "outputs": [
        {
          "output_type": "stream",
          "name": "stdout",
          "text": [
            "[[1 2 3]\n",
            " [4 5 6]]\n",
            "[[1 4]\n",
            " [2 5]\n",
            " [3 6]]\n",
            "[[1 4]\n",
            " [2 5]\n",
            " [3 6]]\n"
          ]
        }
      ]
    },
    {
      "cell_type": "code",
      "source": [
        "# reshape\n",
        "a =np.array([1,2,3,4,5,6]).reshape(6,1)\n",
        "print(a)"
      ],
      "metadata": {
        "colab": {
          "base_uri": "https://localhost:8080/"
        },
        "id": "PSW0ct0JB960",
        "outputId": "c0bc8a6d-7bbe-4505-bc3d-2a37b2a28942"
      },
      "execution_count": null,
      "outputs": [
        {
          "output_type": "stream",
          "name": "stdout",
          "text": [
            "[[1]\n",
            " [2]\n",
            " [3]\n",
            " [4]\n",
            " [5]\n",
            " [6]]\n"
          ]
        }
      ]
    },
    {
      "cell_type": "code",
      "source": [
        "# r_row행\n",
        "a = np.array( [1,2,3])\n",
        "b = np.array( [ 4,5,6,7])\n",
        "print(a)\n",
        "print(b)\n",
        "c = np.r_[a,b]\n",
        "print(c)\n"
      ],
      "metadata": {
        "colab": {
          "base_uri": "https://localhost:8080/"
        },
        "id": "Ta0BbvA5CQ74",
        "outputId": "6cbd819f-6936-401e-c415-cefeeff01992"
      },
      "execution_count": null,
      "outputs": [
        {
          "output_type": "stream",
          "name": "stdout",
          "text": [
            "[1 2 3]\n",
            "[4 5 6 7]\n",
            "[1 2 3 4 5 6 7]\n"
          ]
        }
      ]
    },
    {
      "cell_type": "code",
      "source": [
        "# c_column행\n",
        "a = np.array( [1,2,3])\n",
        "b = np.array( [ 4,5,6])\n",
        "print(a)\n",
        "print(b)\n",
        "c = np.c_[a,b]\n",
        "print(c)"
      ],
      "metadata": {
        "colab": {
          "base_uri": "https://localhost:8080/"
        },
        "id": "BnB7ABYtC5xB",
        "outputId": "4e5a5251-026b-4c42-e8a0-bd9004d6c6f3"
      },
      "execution_count": null,
      "outputs": [
        {
          "output_type": "stream",
          "name": "stdout",
          "text": [
            "[1 2 3]\n",
            "[4 5 6]\n",
            "[[1 4]\n",
            " [2 5]\n",
            " [3 6]]\n"
          ]
        }
      ]
    },
    {
      "cell_type": "code",
      "source": [
        "a = np.array( [1,2,3])\n",
        "b = np.array( [ 4,5,6])\n",
        "c = np.concatenate( (a,b)) # a와 b배열을 행으로 합치기\n",
        "print(c)"
      ],
      "metadata": {
        "colab": {
          "base_uri": "https://localhost:8080/"
        },
        "id": "XNvHPEiMDwR4",
        "outputId": "1a876dfb-0c82-4cdf-97eb-765d1c6696d1"
      },
      "execution_count": null,
      "outputs": [
        {
          "output_type": "stream",
          "name": "stdout",
          "text": [
            "[1 2 3 4 5 6]\n"
          ]
        }
      ]
    },
    {
      "cell_type": "code",
      "source": [
        "a = np.array( [ [1,2], [3,4]])\n",
        "b = np.array( [ [5,6], [7,8]])\n",
        "print(a)\n",
        "print(b)\n",
        "c = np.concatenate((a,b), axis=0)\n",
        "print(c)\n",
        "c = np.concatenate((a,b), axis=1)\n",
        "print(c)"
      ],
      "metadata": {
        "colab": {
          "base_uri": "https://localhost:8080/"
        },
        "id": "6lMuhWkPFDGW",
        "outputId": "74154b00-c561-43d1-8e63-73403e864675"
      },
      "execution_count": null,
      "outputs": [
        {
          "output_type": "stream",
          "name": "stdout",
          "text": [
            "[[1 2]\n",
            " [3 4]]\n",
            "[[5 6]\n",
            " [7 8]]\n",
            "[[1 2]\n",
            " [3 4]\n",
            " [5 6]\n",
            " [7 8]]\n",
            "[[1 2 5 6]\n",
            " [3 4 7 8]]\n"
          ]
        }
      ]
    },
    {
      "cell_type": "code",
      "source": [
        "a = np.array( [ [1,2], [3,4]])\n",
        "b = np.array( [ [5,6], [7,8]])\n",
        "c = np.hstack((a,b))\n",
        "print(c)\n",
        "c = np.vstack((a,b))\n",
        "print(c)"
      ],
      "metadata": {
        "colab": {
          "base_uri": "https://localhost:8080/"
        },
        "id": "qxPb-NfBG1kQ",
        "outputId": "6137f164-ec23-4179-e608-1504b9f1bbc7"
      },
      "execution_count": null,
      "outputs": [
        {
          "output_type": "stream",
          "name": "stdout",
          "text": [
            "[[1 2 5 6]\n",
            " [3 4 7 8]]\n",
            "[[1 2]\n",
            " [3 4]\n",
            " [5 6]\n",
            " [7 8]]\n"
          ]
        }
      ]
    },
    {
      "cell_type": "code",
      "source": [
        "a = np.zeros(5)\n",
        "print(a)\n",
        "a = np.ones(5)\n",
        "print(a)\n",
        "a2 = np.zeros( (3,5))\n",
        "print(a2)\n",
        "a3 = np.ones((5,4))\n",
        "print(a3)\n",
        "# 모든 요소값을 전부 5로 하고싶다\n",
        "b = np.full(10,5)\n",
        "print(b)\n",
        "c = np.full((3,4),7)\n",
        "print(c)"
      ],
      "metadata": {
        "colab": {
          "base_uri": "https://localhost:8080/"
        },
        "id": "hauM_b7UIHid",
        "outputId": "bc639b85-ce03-4a15-f6de-b9643edb166a"
      },
      "execution_count": null,
      "outputs": [
        {
          "output_type": "stream",
          "name": "stdout",
          "text": [
            "[0. 0. 0. 0. 0.]\n",
            "[1. 1. 1. 1. 1.]\n",
            "[[0. 0. 0. 0. 0.]\n",
            " [0. 0. 0. 0. 0.]\n",
            " [0. 0. 0. 0. 0.]]\n",
            "[[1. 1. 1. 1.]\n",
            " [1. 1. 1. 1.]\n",
            " [1. 1. 1. 1.]\n",
            " [1. 1. 1. 1.]\n",
            " [1. 1. 1. 1.]]\n",
            "[5 5 5 5 5 5 5 5 5 5]\n",
            "[[7 7 7 7]\n",
            " [7 7 7 7]\n",
            " [7 7 7 7]]\n"
          ]
        }
      ]
    },
    {
      "cell_type": "code",
      "source": [
        "a = np.empty(4)\n",
        "print(a)\n",
        "a = np.empty(4,dtype=np.int64)\n",
        "print(a)\n",
        "a = np.empty( (2,4),dtype=np.int32)\n",
        "print(a)"
      ],
      "metadata": {
        "colab": {
          "base_uri": "https://localhost:8080/"
        },
        "id": "_ooTpW1eNW15",
        "outputId": "00cab694-0466-4a24-b3f4-5f4edfc5656d"
      },
      "execution_count": null,
      "outputs": [
        {
          "output_type": "stream",
          "name": "stdout",
          "text": [
            "[2.5e-323 3.0e-323 3.5e-323 4.0e-323]\n",
            "[5 6 7 8]\n",
            "[[5 0 6 0]\n",
            " [7 0 8 0]]\n"
          ]
        }
      ]
    },
    {
      "cell_type": "markdown",
      "source": [
        "### Math Operation 수학 함수들 (명령어)\n",
        "- Broadcasting\n",
        "- Matrix Multiplication 행렬곱\n",
        "- 제곱근, 제곱형\n",
        "- 합계\n",
        "- 누적합\n",
        "- 평균"
      ],
      "metadata": {
        "id": "Qp2oIfoiOQDX"
      }
    },
    {
      "cell_type": "code",
      "source": [
        "a = np.array( [ [1,2,3], [4,5,6]])\n",
        "b = np.array( [ [2,2,2],[3,3,3]])\n",
        "print(a+b)\n",
        "print(a-b)\n",
        "print(a*b)\n",
        "print(a/b)\n",
        "print(a%b) # 나머지\n",
        "print(a**b) # 제곱"
      ],
      "metadata": {
        "colab": {
          "base_uri": "https://localhost:8080/"
        },
        "id": "Hy0rILLsOyzg",
        "outputId": "aa206b3a-040a-45b4-8fb8-21d85ad58f7f"
      },
      "execution_count": null,
      "outputs": [
        {
          "output_type": "stream",
          "name": "stdout",
          "text": [
            "[[3 4 5]\n",
            " [7 8 9]]\n",
            "[[-1  0  1]\n",
            " [ 1  2  3]]\n",
            "[[ 2  4  6]\n",
            " [12 15 18]]\n",
            "[[0.5        1.         1.5       ]\n",
            " [1.33333333 1.66666667 2.        ]]\n",
            "[[1 0 1]\n",
            " [1 2 0]]\n",
            "[[  1   4   9]\n",
            " [ 64 125 216]]\n"
          ]
        }
      ]
    },
    {
      "cell_type": "code",
      "source": [
        "# 행렬 곱하기\n",
        "a = np.array( [ [1,2,3], [4,5,6]])\n",
        "b = np.array( [ [2,2],[3,3],[4,4]])\n",
        "c = a@b\n",
        "print(c)\n",
        "c = np.matmul(a,b)\n",
        "print(c)"
      ],
      "metadata": {
        "colab": {
          "base_uri": "https://localhost:8080/"
        },
        "id": "aMiuxMHcPnTj",
        "outputId": "1ce4e98a-9f82-4e4e-9425-68878653f358"
      },
      "execution_count": null,
      "outputs": [
        {
          "output_type": "stream",
          "name": "stdout",
          "text": [
            "[[20 20]\n",
            " [47 47]]\n",
            "[[20 20]\n",
            " [47 47]]\n"
          ]
        }
      ]
    },
    {
      "cell_type": "code",
      "source": [
        "# 제곱\n",
        "a = np.array( [1,2,3,4])\n",
        "a1 = np.square(a)\n",
        "print(a1)\n",
        "\n",
        "# 제곱근\n",
        "a = np.array( [1,2,3,4])\n",
        "print(np.sqrt(a))\n",
        "\n",
        "# 합계\n",
        "print(np.sum(a))\n",
        "\n",
        "#평균\n",
        "print(np.average(a))\n",
        "\n",
        "#최대값\n",
        "print(np.max(a))\n",
        "\n",
        "# 최소값\n",
        "print(np.min(a))\n",
        "\n",
        "# 누적합\n",
        "a = np.array( [1,2,3,4,5])\n",
        "print(np.cumsum(a))\n",
        "\n",
        "# 누적곱\n",
        "a = np.arange(1,7)\n",
        "print(a)\n",
        "print(np.cumprod(a))"
      ],
      "metadata": {
        "colab": {
          "base_uri": "https://localhost:8080/"
        },
        "id": "4ye34jT6RRoI",
        "outputId": "b34048f1-8255-4a88-f8d7-671c3be35244"
      },
      "execution_count": null,
      "outputs": [
        {
          "output_type": "stream",
          "name": "stdout",
          "text": [
            "[ 1  4  9 16]\n",
            "[1.         1.41421356 1.73205081 2.        ]\n",
            "10\n",
            "2.5\n",
            "4\n",
            "1\n",
            "[ 1  3  6 10 15]\n",
            "[1 2 3 4 5 6]\n",
            "[  1   2   6  24 120 720]\n"
          ]
        }
      ]
    },
    {
      "cell_type": "markdown",
      "source": [
        "### pi\n",
        "- e\n",
        "- exp\n",
        "- sin\n",
        "- cos\n",
        "- tan\n",
        "- log"
      ],
      "metadata": {
        "id": "m7ZkpeaATYnB"
      }
    },
    {
      "cell_type": "code",
      "source": [
        "from numpy import pi, e"
      ],
      "metadata": {
        "id": "9QdVgus4TlgP"
      },
      "execution_count": null,
      "outputs": []
    },
    {
      "cell_type": "code",
      "source": [
        "print(pi)\n",
        "print(e)"
      ],
      "metadata": {
        "colab": {
          "base_uri": "https://localhost:8080/"
        },
        "id": "D2nrSmc_T0ql",
        "outputId": "a03cd1fd-a839-4c15-e8fc-a4b50e2023dc"
      },
      "execution_count": null,
      "outputs": [
        {
          "output_type": "stream",
          "name": "stdout",
          "text": [
            "3.141592653589793\n",
            "2.718281828459045\n"
          ]
        }
      ]
    },
    {
      "cell_type": "code",
      "source": [
        "import numpy as np\n",
        "np.exp(1)\n",
        "x = np.array( [0,1,2])\n",
        "y = np.exp(x)\n",
        "print(x)"
      ],
      "metadata": {
        "colab": {
          "base_uri": "https://localhost:8080/"
        },
        "id": "Rqh5VV5IUXnp",
        "outputId": "3c9c3920-7e6b-4f46-815e-c3b7e4e6ac59"
      },
      "execution_count": null,
      "outputs": [
        {
          "output_type": "stream",
          "name": "stdout",
          "text": [
            "[0 1 2]\n"
          ]
        }
      ]
    },
    {
      "cell_type": "code",
      "source": [
        "import matplotlib.pyplot as plt # 그래프 그리기\n",
        "x = np.linspace(-2,2,100)\n",
        "y = np.exp(x)\n",
        "#print(y)\n",
        "plt.plot(x,y)\n",
        "plt.show()"
      ],
      "metadata": {
        "colab": {
          "base_uri": "https://localhost:8080/",
          "height": 430
        },
        "id": "TxH6rdRcUqNP",
        "outputId": "27f45eff-ba90-41f9-bdef-b42847a6f78f"
      },
      "execution_count": null,
      "outputs": [
        {
          "output_type": "display_data",
          "data": {
            "text/plain": [
              "<Figure size 640x480 with 1 Axes>"
            ],
            "image/png": "[encoded data removed]"
          },
          "metadata": {}
        }
      ]
    },
    {
      "cell_type": "markdown",
      "source": [
        "- random 난수 rand"
      ],
      "metadata": {
        "id": "kPkSoJOUWBd7"
      }
    },
    {
      "cell_type": "code",
      "source": [
        "np.random.rand()\n",
        "print(np.random.rand(3))\n",
        "print(np.random.rand(3,5))"
      ],
      "metadata": {
        "colab": {
          "base_uri": "https://localhost:8080/"
        },
        "id": "ggKz83lpWJBj",
        "outputId": "488d54a3-cf03-4a15-dc82-579544db9831"
      },
      "execution_count": null,
      "outputs": [
        {
          "output_type": "stream",
          "name": "stdout",
          "text": [
            "[0.26418895 0.5917605  0.69013219]\n",
            "[[0.68127643 0.84033281 0.27179967 0.46591519 0.26474686]\n",
            " [0.50799858 0.94301348 0.31197451 0.45873503 0.23788483]\n",
            " [0.77353364 0.14996998 0.53685715 0.22878566 0.47968502]]\n"
          ]
        }
      ]
    },
    {
      "cell_type": "markdown",
      "source": [
        "### 파일 저장하기 np.save( '파일명',넌파이자료)\n",
        "### 파일 불러오기 변수 = np.load('파일명')"
      ],
      "metadata": {
        "id": "GUhgOiuyWlcz"
      }
    },
    {
      "cell_type": "code",
      "source": [
        "a = np.arange(0,100).reshape(10,10)\n",
        "print(a)\n",
        "np.save('test.npy', a)"
      ],
      "metadata": {
        "colab": {
          "base_uri": "https://localhost:8080/"
        },
        "id": "qOS2f1I2W2_R",
        "outputId": "85aea443-89f4-4549-8a2f-032e4f37532b"
      },
      "execution_count": null,
      "outputs": [
        {
          "output_type": "stream",
          "name": "stdout",
          "text": [
            "[[ 0  1  2  3  4  5  6  7  8  9]\n",
            " [10 11 12 13 14 15 16 17 18 19]\n",
            " [20 21 22 23 24 25 26 27 28 29]\n",
            " [30 31 32 33 34 35 36 37 38 39]\n",
            " [40 41 42 43 44 45 46 47 48 49]\n",
            " [50 51 52 53 54 55 56 57 58 59]\n",
            " [60 61 62 63 64 65 66 67 68 69]\n",
            " [70 71 72 73 74 75 76 77 78 79]\n",
            " [80 81 82 83 84 85 86 87 88 89]\n",
            " [90 91 92 93 94 95 96 97 98 99]]\n"
          ]
        }
      ]
    },
    {
      "cell_type": "code",
      "source": [
        "# 파이썬 활장자로 바꾸어서 저장하기\n",
        "k = np.load('test.npy')\n",
        "print(k)"
      ],
      "metadata": {
        "colab": {
          "base_uri": "https://localhost:8080/"
        },
        "id": "2Tc5K0BVX6Bl",
        "outputId": "5ac1d676-5f84-4e41-a678-0063701d1eb0"
      },
      "execution_count": null,
      "outputs": [
        {
          "output_type": "stream",
          "name": "stdout",
          "text": [
            "[[ 0  1  2  3  4  5  6  7  8  9]\n",
            " [10 11 12 13 14 15 16 17 18 19]\n",
            " [20 21 22 23 24 25 26 27 28 29]\n",
            " [30 31 32 33 34 35 36 37 38 39]\n",
            " [40 41 42 43 44 45 46 47 48 49]\n",
            " [50 51 52 53 54 55 56 57 58 59]\n",
            " [60 61 62 63 64 65 66 67 68 69]\n",
            " [70 71 72 73 74 75 76 77 78 79]\n",
            " [80 81 82 83 84 85 86 87 88 89]\n",
            " [90 91 92 93 94 95 96 97 98 99]]\n"
          ]
        }
      ]
    },
    {
      "cell_type": "markdown",
      "source": [
        "# 우수 초콜릿 분석하기\n"
      ],
      "metadata": {
        "id": "hHhyg3lwa8pk"
      }
    },
    {
      "cell_type": "code",
      "source": [
        "from google.colab import files\n",
        "f = files.upload()\n",
        "import numpy as np\n",
        "data = np.loadtxt('chocolate_rating.csv', delimiter=',')"
      ],
      "metadata": {
        "colab": {
          "base_uri": "https://localhost:8080/",
          "height": 77
        },
        "id": "a0ocUF0ObhGm",
        "outputId": "07abd780-4abe-4794-c727-277197046ebb"
      },
      "execution_count": 259,
      "outputs": [
        {
          "output_type": "display_data",
          "data": {
            "text/plain": [
              "<IPython.core.display.HTML object>"
            ],
            "text/html": [
              "\n",
              "     <input type=\"file\" id=\"files-60bd1b86-da91-4f00-ba34-09848fe211f4\" name=\"files[]\" multiple disabled\n",
              "        style=\"border:none\" />\n",
              "     <output id=\"result-60bd1b86-da91-4f00-ba34-09848fe211f4\">\n",
              "      Upload widget is only available when the cell has been executed in the\n",
              "      current browser session. Please rerun this cell to enable.\n",
              "      </output>\n",
              "      <script>// Copyright 2017 Google LLC\n",
              "//\n",
              "// Licensed under the Apache License, Version 2.0 (the \"License\");\n",
              "// you may not use this file except in compliance with the License.\n",
              "// You may obtain a copy of the License at\n",
              "//\n",
              "//      http://www.apache.org/licenses/LICENSE-2.0\n",
              "//\n",
              "// Unless required by applicable law or agreed to in writing, software\n",
              "// distributed under the License is distributed on an \"AS IS\" BASIS,\n",
              "// WITHOUT WARRANTIES OR CONDITIONS OF ANY KIND, either express or implied.\n",
              "// See the License for the specific language governing permissions and\n",
              "// limitations under the License.\n",
              "\n",
              "/**\n",
              " * @fileoverview Helpers for google.colab Python module.\n",
              " */\n",
              "(function(scope) {\n",
              "function span(text, styleAttributes = {}) {\n",
              "  const element = document.createElement('span');\n",
              "  element.textContent = text;\n",
              "  for (const key of Object.keys(styleAttributes)) {\n",
              "    element.style[key] = styleAttributes[key];\n",
              "  }\n",
              "  return element;\n",
              "}\n",
              "\n",
              "// Max number of bytes which will be uploaded at a time.\n",
              "const MAX_PAYLOAD_SIZE = 100 * 1024;\n",
              "\n",
              "function _uploadFiles(inputId, outputId) {\n",
              "  const steps = uploadFilesStep(inputId, outputId);\n",
              "  const outputElement = document.getElementById(outputId);\n",
              "  // Cache steps on the outputElement to make it available for the next call\n",
              "  // to uploadFilesContinue from Python.\n",
              "  outputElement.steps = steps;\n",
              "\n",
              "  return _uploadFilesContinue(outputId);\n",
              "}\n",
              "\n",
              "// This is roughly an async generator (not supported in the browser yet),\n",
              "// where there are multiple asynchronous steps and the Python side is going\n",
              "// to poll for completion of each step.\n",
              "// This uses a Promise to block the python side on completion of each step,\n",
              "// then passes the result of the previous step as the input to the next step.\n",
              "function _uploadFilesContinue(outputId) {\n",
              "  const outputElement = document.getElementById(outputId);\n",
              "  const steps = outputElement.steps;\n",
              "\n",
              "  const next = steps.next(outputElement.lastPromiseValue);\n",
              "  return Promise.resolve(next.value.promise).then((value) => {\n",
              "    // Cache the last promise value to make it available to the next\n",
              "    // step of the generator.\n",
              "    outputElement.lastPromiseValue = value;\n",
              "    return next.value.response;\n",
              "  });\n",
              "}\n",
              "\n",
              "/**\n",
              " * Generator function which is called between each async step of the upload\n",
              " * process.\n",
              " * @param {string} inputId Element ID of the input file picker element.\n",
              " * @param {string} outputId Element ID of the output display.\n",
              " * @return {!Iterable<!Object>} Iterable of next steps.\n",
              " */\n",
              "function* uploadFilesStep(inputId, outputId) {\n",
              "  const inputElement = document.getElementById(inputId);\n",
              "  inputElement.disabled = false;\n",
              "\n",
              "  const outputElement = document.getElementById(outputId);\n",
              "  outputElement.innerHTML = '';\n",
              "\n",
              "  const pickedPromise = new Promise((resolve) => {\n",
              "    inputElement.addEventListener('change', (e) => {\n",
              "      resolve(e.target.files);\n",
              "    });\n",
              "  });\n",
              "\n",
              "  const cancel = document.createElement('button');\n",
              "  inputElement.parentElement.appendChild(cancel);\n",
              "  cancel.textContent = 'Cancel upload';\n",
              "  const cancelPromise = new Promise((resolve) => {\n",
              "    cancel.onclick = () => {\n",
              "      resolve(null);\n",
              "    };\n",
              "  });\n",
              "\n",
              "  // Wait for the user to pick the files.\n",
              "  const files = yield {\n",
              "    promise: Promise.race([pickedPromise, cancelPromise]),\n",
              "    response: {\n",
              "      action: 'starting',\n",
              "    }\n",
              "  };\n",
              "\n",
              "  cancel.remove();\n",
              "\n",
              "  // Disable the input element since further picks are not allowed.\n",
              "  inputElement.disabled = true;\n",
              "\n",
              "  if (!files) {\n",
              "    return {\n",
              "      response: {\n",
              "        action: 'complete',\n",
              "      }\n",
              "    };\n",
              "  }\n",
              "\n",
              "  for (const file of files) {\n",
              "    const li = document.createElement('li');\n",
              "    li.append(span(file.name, {fontWeight: 'bold'}));\n",
              "    li.append(span(\n",
              "        `(${file.type || 'n/a'}) - ${file.size} bytes, ` +\n",
              "        `last modified: ${\n",
              "            file.lastModifiedDate ? file.lastModifiedDate.toLocaleDateString() :\n",
              "                                    'n/a'} - `));\n",
              "    const percent = span('0% done');\n",
              "    li.appendChild(percent);\n",
              "\n",
              "    outputElement.appendChild(li);\n",
              "\n",
              "    const fileDataPromise = new Promise((resolve) => {\n",
              "      const reader = new FileReader();\n",
              "      reader.onload = (e) => {\n",
              "        resolve(e.target.result);\n",
              "      };\n",
              "      reader.readAsArrayBuffer(file);\n",
              "    });\n",
              "    // Wait for the data to be ready.\n",
              "    let fileData = yield {\n",
              "      promise: fileDataPromise,\n",
              "      response: {\n",
              "        action: 'continue',\n",
              "      }\n",
              "    };\n",
              "\n",
              "    // Use a chunked sending to avoid message size limits. See b/62115660.\n",
              "    let position = 0;\n",
              "    do {\n",
              "      const length = Math.min(fileData.byteLength - position, MAX_PAYLOAD_SIZE);\n",
              "      const chunk = new Uint8Array(fileData, position, length);\n",
              "      position += length;\n",
              "\n",
              "      const base64 = btoa(String.fromCharCode.apply(null, chunk));\n",
              "      yield {\n",
              "        response: {\n",
              "          action: 'append',\n",
              "          file: file.name,\n",
              "          data: base64,\n",
              "        },\n",
              "      };\n",
              "\n",
              "      let percentDone = fileData.byteLength === 0 ?\n",
              "          100 :\n",
              "          Math.round((position / fileData.byteLength) * 100);\n",
              "      percent.textContent = `${percentDone}% done`;\n",
              "\n",
              "    } while (position < fileData.byteLength);\n",
              "  }\n",
              "\n",
              "  // All done.\n",
              "  yield {\n",
              "    response: {\n",
              "      action: 'complete',\n",
              "    }\n",
              "  };\n",
              "}\n",
              "\n",
              "scope.google = scope.google || {};\n",
              "scope.google.colab = scope.google.colab || {};\n",
              "scope.google.colab._files = {\n",
              "  _uploadFiles,\n",
              "  _uploadFilesContinue,\n",
              "};\n",
              "})(self);\n",
              "</script> "
            ]
          },
          "metadata": {}
        },
        {
          "output_type": "stream",
          "name": "stdout",
          "text": [
            "Saving chocolate_rating.csv to chocolate_rating.csv\n"
          ]
        }
      ]
    },
    {
      "cell_type": "code",
      "source": [
        "# print(data)\n",
        "print(data.ndim)\n",
        "print(data.shape)\n",
        "print(data.size)\n",
        "\n"
      ],
      "metadata": {
        "colab": {
          "base_uri": "https://localhost:8080/"
        },
        "id": "uCF2l105dIQV",
        "outputId": "f6ca1256-eba7-4c85-8eac-ef2c8f2f9b71"
      },
      "execution_count": 265,
      "outputs": [
        {
          "output_type": "stream",
          "name": "stdout",
          "text": [
            "2\n",
            "(1795, 4)\n",
            "7180\n"
          ]
        }
      ]
    },
    {
      "cell_type": "code",
      "source": [
        "rating_mean = data[:, 3].mean()\n",
        "print(rating_mean)\n",
        "\n",
        "heigh_level = data[data[:, 3] >= 4]\n",
        "print(heigh_level[0:10])\n",
        "high_id = heigh_level[:, 0].astype(np.int64)\n",
        "print('우수초콜릿 수는?', high_id.size)"
      ],
      "metadata": {
        "colab": {
          "base_uri": "https://localhost:8080/"
        },
        "id": "GF-oNnfIe1VH",
        "outputId": "a3d7077e-6098-4588-cf2f-6c6407f91daa"
      },
      "execution_count": 274,
      "outputs": [
        {
          "output_type": "stream",
          "name": "stdout",
          "text": [
            "3.185933147632312\n",
            "[[1.000e+01 2.014e+03 7.000e-01 4.000e+00]\n",
            " [1.800e+01 2.013e+03 7.000e-01 4.000e+00]\n",
            " [2.100e+01 2.013e+03 6.300e-01 4.000e+00]\n",
            " [5.500e+01 2.011e+03 7.000e-01 4.000e+00]\n",
            " [5.700e+01 2.010e+03 7.000e-01 4.000e+00]\n",
            " [7.700e+01 2.007e+03 7.000e-01 4.000e+00]\n",
            " [7.800e+01 2.007e+03 7.500e-01 4.000e+00]\n",
            " [7.900e+01 2.007e+03 7.000e-01 5.000e+00]\n",
            " [8.400e+01 2.007e+03 7.000e-01 4.000e+00]\n",
            " [8.700e+01 2.006e+03 7.000e-01 5.000e+00]]\n",
            "우수초콜릿 수는? 100\n"
          ]
        }
      ]
    },
    {
      "cell_type": "code",
      "source": [
        "high_kakao = heigh_level[:,2]\n",
        "print(high_kakao)\n",
        "nquni = np.unique(high_kakao)\n",
        "print(nquni)"
      ],
      "metadata": {
        "colab": {
          "base_uri": "https://localhost:8080/"
        },
        "id": "w8p3iKqZhclF",
        "outputId": "eeb6f4df-74a6-47e3-c8cc-10315690e112"
      },
      "execution_count": 276,
      "outputs": [
        {
          "output_type": "stream",
          "name": "stdout",
          "text": [
            "[0.7  0.7  0.63 0.7  0.7  0.7  0.75 0.7  0.7  0.7  0.66 0.6  0.7  0.7\n",
            " 0.7  0.72 0.7  0.73 0.72 0.72 0.75 0.75 0.75 0.75 0.75 0.75 0.75 0.75\n",
            " 0.7  0.71 0.7  0.7  0.72 0.75 0.7  0.7  0.7  0.7  0.7  0.7  0.68 0.7\n",
            " 0.74 0.69 0.7  0.74 0.7  0.72 0.7  0.74 0.7  0.72 0.72 0.7  0.7  0.63\n",
            " 0.68 0.74 0.67 0.65 0.64 0.75 0.7  0.7  0.7  0.75 0.7  0.67 0.7  0.72\n",
            " 0.72 0.72 0.75 0.75 0.8  0.75 0.75 0.7  0.78 0.65 0.7  0.72 0.7  0.75\n",
            " 0.88 0.7  0.67 0.7  0.7  0.7  0.64 0.7  0.7  0.63 0.69 0.64 0.64 0.7\n",
            " 0.7  0.7 ]\n",
            "[0.6  0.63 0.64 0.65 0.66 0.67 0.68 0.69 0.7  0.71 0.72 0.73 0.74 0.75\n",
            " 0.78 0.8  0.88]\n"
          ]
        }
      ]
    }
  ]
}