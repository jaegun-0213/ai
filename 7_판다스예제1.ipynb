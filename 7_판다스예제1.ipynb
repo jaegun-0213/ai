{
  "nbformat": 4,
  "nbformat_minor": 0,
  "metadata": {
    "colab": {
      "provenance": [],
      "authorship_tag": "ABX9TyMAjFxVWxZMBf4ouKQTkJgQ",
      "include_colab_link": true
    },
    "kernelspec": {
      "name": "python3",
      "display_name": "Python 3"
    },
    "language_info": {
      "name": "python"
    }
  },
  "cells": [
    {
      "cell_type": "markdown",
      "metadata": {
        "id": "view-in-github",
        "colab_type": "text"
      },
      "source": [
        "<a href=\"https://colab.research.google.com/github/jaegun-0213/ai/blob/%2Bpython/7_%ED%8C%90%EB%8B%A4%EC%8A%A4%EC%98%88%EC%A0%9C1.ipynb\" target=\"_parent\"><img src=\"https://colab.research.google.com/assets/colab-badge.svg\" alt=\"Open In Colab\"/></a>"
      ]
    },
    {
      "cell_type": "markdown",
      "source": [
        "- 판다스는 파이썬의 수 많은 라이브러리 가운데 레이블 형태의 자료를 수집하고 정리하는 데 매우 유용한 도구입니다. 이러한 판다스의 두 가지 대표적인 자료구조가 바로 시리즈(Series)와 데이터프레임(Dataframe)입니다.\n",
        "\n",
        "- Pandas의 Series는 1차원 배열로서 다음의 특징을 가집니다.\n",
        "\n",
        "  - 데이터를 담는 차원 배열 구조를 가집니다.\n",
        "\n",
        "  - 인덱스(index)를 사용 가능합니다.\n",
        "\n",
        "  - 데이터 타입을 가집니다. (dtype)\n",
        "\n"
      ],
      "metadata": {
        "id": "EABXXmWupJIo"
      }
    },
    {
      "cell_type": "code",
      "execution_count": 10,
      "metadata": {
        "colab": {
          "base_uri": "https://localhost:8080/"
        },
        "id": "cwZHtYsYn-yO",
        "outputId": "c987c8eb-d21d-4fdc-8e8d-90bf1e6cf073"
      },
      "outputs": [
        {
          "output_type": "stream",
          "name": "stdout",
          "text": [
            "넌파이 [100 101 102 103 104]\n",
            "판다스 0    100\n",
            "1    101\n",
            "2    102\n",
            "3    103\n",
            "4    104\n",
            "dtype: int64\n",
            "0    100\n",
            "1    101\n",
            "2    102\n",
            "3    103\n",
            "4    104\n",
            "dtype: int32\n",
            "0    100.0\n",
            "1    101.0\n",
            "2    102.0\n",
            "3    103.0\n",
            "4    104.0\n",
            "dtype: float32\n"
          ]
        }
      ],
      "source": [
        "# Series의 생성 방법 1 -numpy 이용하기\n",
        "# numpy array로 생성한 경우\n",
        "import numpy as np\n",
        "import pandas as pd\n",
        "a1 = np.arange(100,105)\n",
        "print('넌파이',a1)\n",
        "pd_a1 = pd.Series(a1)\n",
        "print('판다스',pd_a1)\n",
        "\n",
        "# 2. Dtype 지정하기\n",
        "pd_a2 = pd.Series(a1,dtype='int32')\n",
        "print(pd_a2)\n",
        "pd_a3 = pd.Series(a1,dtype='float32')\n",
        "print(pd_a3)"
      ]
    },
    {
      "cell_type": "code",
      "source": [
        "# Series의 생성 방법 2 - list 이용하기\n",
        "data = [91,2.5,'문자',4,5.16] # 리스트안에 다양한 자료형을 넣음\n",
        "pd_s2 = pd.Series( data )\n",
        "print(pd_s2)\n",
        "print(pd_s2.dtype) # list안에 자료가 다양하므로 모든 자료형을 표현할 수 있는 오브젝트형으로 나온다.\n",
        "print(pd_s2.index) # 인덱스의 범위를 알 수 있다. 인덱스를 붙이지 않으면 자동으로 0부터 만들어진다.\n",
        "print(pd_s2[ 2 ])"
      ],
      "metadata": {
        "colab": {
          "base_uri": "https://localhost:8080/"
        },
        "id": "xzj_ZHt7rdYt",
        "outputId": "44ddea9a-af04-4166-9473-30815b4510d4"
      },
      "execution_count": 20,
      "outputs": [
        {
          "output_type": "stream",
          "name": "stdout",
          "text": [
            "0      91\n",
            "1     2.5\n",
            "2      문자\n",
            "3       4\n",
            "4    5.16\n",
            "dtype: object\n",
            "object\n",
            "RangeIndex(start=0, stop=5, step=1)\n",
            "문자\n"
          ]
        }
      ]
    }
  ]
}